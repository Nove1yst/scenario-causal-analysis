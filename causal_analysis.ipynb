{
 "cells": [
  {
   "cell_type": "code",
   "execution_count": 2,
   "metadata": {},
   "outputs": [],
   "source": [
    "import os\n",
    "import sys\n",
    "import matplotlib.pyplot as plt\n",
    "from tqdm import tqdm\n",
    "\n",
    "sys.path.append(os.getcwd())\n",
    "from src.causal_analyzer import CausalAnalyzer\n",
    "\n",
    "fragment_id_list = ['7_28_1 R21', '8_10_1 R18', '8_10_2 R19', '8_11_1 R20']\n",
    "ego_id_dict = {\n",
    "    '7_28_1 R21': [1, 9, 11, 13, 26, 31, 79, 141, 144, 148, 162, 167, 170, 181],\n",
    "    '8_10_1 R18': [13, 70, 76, 157],\n",
    "    '8_10_2 R19': [75, 112, 126, 178],\n",
    "    '8_11_1 R20': [4, 9, 37, 57, 60, 80, 84, 87, 93, 109, 159, 160, 161, 175, 216, 219, 289, 295, 316, 333, 372, 385, 390, 400, 479]\n",
    "}"
   ]
  },
  {
   "cell_type": "code",
   "execution_count": 4,
   "metadata": {},
   "outputs": [],
   "source": [
    "data_dir = \"./data/tj\"\n",
    "output_dir = \"./output/tj/causal_analysis/debug\"\n",
    "causal_analyzer = CausalAnalyzer(data_dir, output_dir)\n",
    "causal_analyzer.load_data()"
   ]
  },
  {
   "cell_type": "code",
   "execution_count": null,
   "metadata": {},
   "outputs": [],
   "source": [
    "causal_analyzer.analyze(fragment_id_list[0], \n",
    "                        ego_id_dict[fragment_id_list[0]][0], \n",
    "                        visualize_acc=True, \n",
    "                        visualize_ssm=True, \n",
    "                        visualize_cg=True, \n",
    "                        depth=0, \n",
    "                        max_depth=2)"
   ]
  }
 ],
 "metadata": {
  "kernelspec": {
   "display_name": "causal",
   "language": "python",
   "name": "python3"
  },
  "language_info": {
   "codemirror_mode": {
    "name": "ipython",
    "version": 3
   },
   "file_extension": ".py",
   "mimetype": "text/x-python",
   "name": "python",
   "nbconvert_exporter": "python",
   "pygments_lexer": "ipython3",
   "version": "3.9.21"
  }
 },
 "nbformat": 4,
 "nbformat_minor": 2
}
